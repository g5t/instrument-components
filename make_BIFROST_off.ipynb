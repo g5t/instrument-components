{
 "cells": [
  {
   "cell_type": "code",
   "execution_count": null,
   "id": "3d5a87cb-f2b2-4140-ba9b-36fc2e3180a5",
   "metadata": {},
   "outputs": [],
   "source": [
    "from nicess.bifrost import Tank, Channel, BIFROST\n",
    "from nicess.spatial import write_off_file\n",
    "import scipp as sc\n",
    "import numpy as np\n",
    "from datetime import date"
   ]
  },
  {
   "cell_type": "code",
   "execution_count": null,
   "id": "637afc41-9bf8-41d7-97be-13edae17570f",
   "metadata": {},
   "outputs": [],
   "source": [
    "#obj0 = Channel.from_calibration(sc.scalar(0., unit='degree'))"
   ]
  },
  {
   "cell_type": "code",
   "execution_count": null,
   "id": "c2182f2d-75ea-4717-a550-8f4d2535af74",
   "metadata": {},
   "outputs": [],
   "source": [
    "obj = Tank.from_calibration()"
   ]
  },
  {
   "cell_type": "code",
   "execution_count": null,
   "id": "e2ac9b9c-1dfe-4657-bdb1-95eb32af8099",
   "metadata": {},
   "outputs": [],
   "source": [
    "filename = f'{date.isoformat(date.today())}_BIFROST_secondary.off'"
   ]
  },
  {
   "cell_type": "code",
   "execution_count": null,
   "id": "c162becf-fcc6-40b8-b232-a0e135664ee3",
   "metadata": {},
   "outputs": [],
   "source": [
    "write_off_file(*obj.triangulate(), filename)"
   ]
  },
  {
   "cell_type": "code",
   "execution_count": null,
   "id": "2f8bcdd3-8f5d-4c9e-8456-41d38c503af4",
   "metadata": {},
   "outputs": [],
   "source": [
    "vertices, faces = obj.triangulate()"
   ]
  },
  {
   "cell_type": "code",
   "execution_count": null,
   "id": "2a407c99-f14b-4895-98a6-43469c972332",
   "metadata": {},
   "outputs": [],
   "source": [
    "vertices"
   ]
  },
  {
   "cell_type": "code",
   "execution_count": null,
   "id": "860617bd-b9d9-4730-a523-03b5c8962bf2",
   "metadata": {},
   "outputs": [],
   "source": [
    "from meshplot import plot"
   ]
  },
  {
   "cell_type": "code",
   "execution_count": null,
   "id": "d476636d-c278-4da8-b984-d25e6c95e69a",
   "metadata": {},
   "outputs": [],
   "source": [
    "plot(vertices.values, np.array(faces))"
   ]
  },
  {
   "cell_type": "code",
   "execution_count": null,
   "id": "2b90c697-bc7f-4e32-9ccb-ec5958855d76",
   "metadata": {},
   "outputs": [],
   "source": []
  }
 ],
 "metadata": {
  "kernelspec": {
   "display_name": "Python 3 (ipykernel)",
   "language": "python",
   "name": "python3"
  },
  "language_info": {
   "codemirror_mode": {
    "name": "ipython",
    "version": 3
   },
   "file_extension": ".py",
   "mimetype": "text/x-python",
   "name": "python",
   "nbconvert_exporter": "python",
   "pygments_lexer": "ipython3"
  }
 },
 "nbformat": 4,
 "nbformat_minor": 5
}
