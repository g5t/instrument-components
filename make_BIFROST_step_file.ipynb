{
 "cells": [
  {
   "cell_type": "code",
   "execution_count": null,
   "id": "3d5a87cb-f2b2-4140-ba9b-36fc2e3180a5",
   "metadata": {},
   "outputs": [],
   "source": [
    "from nicess.bifrost import Tank, Channel, BIFROST\n",
    "import scipp as sc\n",
    "import numpy as np\n",
    "from datetime import date"
   ]
  },
  {
   "cell_type": "code",
   "execution_count": null,
   "id": "26a67457-be1a-4e6f-ad23-c4594c008d7f",
   "metadata": {},
   "outputs": [],
   "source": [
    "def explore(obj):\n",
    "    print(f\"{type(obj)}:\")\n",
    "    if type(obj) is None:\n",
    "        return\n",
    "    d = np.array([x for x in dir(obj) if x[0] != '_'])\n",
    "    if len(d) == 0:\n",
    "        return\n",
    "    t = len(d)//3\n",
    "    mw = max(len(x) for x in d)\n",
    "    d = [\"{x:{n}s}\".format(x=x,n=mw) for x in d]\n",
    "    ds = d[:t], d[t+1:2*t], d[2*t+1:]\n",
    "    print('\\n'.join(['\\t'.join(l) for l in zip(*ds)]))\n",
    "\n",
    "def spelunk(obj, prepend=0, max_depth=6):\n",
    "    if prepend > max_depth:\n",
    "        return\n",
    "    if type(obj) is None:\n",
    "        return\n",
    "    attrs = [x for x in dir(obj) if x[0] != '_']\n",
    "    if len(attrs) == 0:\n",
    "        return\n",
    "    mw = max(len(x) for x in attrs)\n",
    "    for attr in attrs:\n",
    "        child = getattr(obj, attr)\n",
    "        print(\"{p}{x:{n}s} = {t}\".format(p='.'*prepend, x=attr, n=mw, t=type(child)))\n",
    "        if not isinstance(child, (str, list, tuple, dict)):\n",
    "            spelunk(child, prepend+2, max_depth)"
   ]
  },
  {
   "cell_type": "code",
   "execution_count": null,
   "id": "637afc41-9bf8-41d7-97be-13edae17570f",
   "metadata": {},
   "outputs": [],
   "source": [
    "obj0 = Channel.from_calibration(sc.scalar(0., unit='degree'))\n",
    "obj0_cq = obj0.to_cadquery()"
   ]
  },
  {
   "cell_type": "code",
   "execution_count": null,
   "id": "c2182f2d-75ea-4717-a550-8f4d2535af74",
   "metadata": {},
   "outputs": [],
   "source": [
    "obj = Tank.from_calibration()\n",
    "obj_cq = obj.to_cadquery()\n",
    "#obj_cq.save('test_BIFROST_secondary.step')"
   ]
  },
  {
   "cell_type": "code",
   "execution_count": null,
   "id": "3a16184d-bd2c-4ec5-b7d2-7d04d8ac971f",
   "metadata": {},
   "outputs": [],
   "source": [
    "# from jupyter_cadquery.viewer.client import show, show_object"
   ]
  },
  {
   "cell_type": "code",
   "execution_count": null,
   "id": "58ae4151-deca-4d72-b8b9-09e26bcbadf9",
   "metadata": {},
   "outputs": [],
   "source": [
    "# show(obj0_cq)"
   ]
  },
  {
   "cell_type": "code",
   "execution_count": null,
   "id": "2b609223-3438-4706-801f-174a10e7c0e2",
   "metadata": {},
   "outputs": [],
   "source": [
    "# obj0_cq"
   ]
  },
  {
   "cell_type": "code",
   "execution_count": null,
   "id": "777edd49-8ebb-4e35-bddc-3dbb7b1e6d46",
   "metadata": {},
   "outputs": [],
   "source": [
    "obj_cq.save(f'{date.isoformat(date.today())}_BIFROST_secondary.step')"
   ]
  },
  {
   "cell_type": "code",
   "execution_count": null,
   "id": "8efe4574-ddbe-4e46-a68a-857ca913664d",
   "metadata": {},
   "outputs": [],
   "source": [
    "obj_cq"
   ]
  },
  {
   "cell_type": "code",
   "execution_count": null,
   "id": "2e31b0c2-0f0c-4f85-a3ba-d74b6e0f70c0",
   "metadata": {},
   "outputs": [],
   "source": [
    "explore(obj_cq)"
   ]
  },
  {
   "cell_type": "code",
   "execution_count": null,
   "id": "ba1fecae-4ec6-421a-8ffd-184182ea84d4",
   "metadata": {},
   "outputs": [],
   "source": [
    "explore(obj_cq.children[0])"
   ]
  },
  {
   "cell_type": "code",
   "execution_count": null,
   "id": "937a1192-76f8-4d85-bef3-4b4350a96233",
   "metadata": {},
   "outputs": [],
   "source": [
    "explore(obj_cq.children[0].obj)"
   ]
  },
  {
   "cell_type": "code",
   "execution_count": null,
   "id": "79f8e3af-b996-4794-9a04-4cd2f8dc8c6e",
   "metadata": {},
   "outputs": [],
   "source": [
    "obj_cq.objects"
   ]
  },
  {
   "cell_type": "code",
   "execution_count": null,
   "id": "ac6bb711-7038-441c-883f-4a121ac125d3",
   "metadata": {},
   "outputs": [],
   "source": [
    "def com_xy_angle(obj):\n",
    "    from numpy import arctan2, pi\n",
    "    v = obj.centerOfMass(obj)\n",
    "    return arctan2(v.y, v.x) / pi * 180"
   ]
  },
  {
   "cell_type": "code",
   "execution_count": null,
   "id": "349ffda0-27e0-4d52-af21-400086028f57",
   "metadata": {},
   "outputs": [],
   "source": [
    "print(' '.join([f\"{y: 3.2f}\" for y in map(lambda x: com_xy_angle(x.obj), obj_cq.children)]))"
   ]
  },
  {
   "cell_type": "code",
   "execution_count": null,
   "id": "30e32133-6276-4c55-adf6-ad81acc3fe5d",
   "metadata": {},
   "outputs": [],
   "source": [
    "ch4 = obj_cq.objects['channel-4']"
   ]
  },
  {
   "cell_type": "code",
   "execution_count": null,
   "id": "c1fd53ed-dc85-471d-9400-96f6577f8d2d",
   "metadata": {},
   "outputs": [],
   "source": [
    "explore(ch4.obj)"
   ]
  },
  {
   "cell_type": "code",
   "execution_count": null,
   "id": "6855f9c7-f58f-484e-be0a-bd0e64aa45e2",
   "metadata": {},
   "outputs": [],
   "source": [
    "ch4s0 = ch4.obj.Solids()[0]"
   ]
  },
  {
   "cell_type": "code",
   "execution_count": null,
   "id": "e592e6ac-a407-4f9d-9e08-88cddb8c3c74",
   "metadata": {},
   "outputs": [],
   "source": [
    "explore(ch4s0)"
   ]
  },
  {
   "cell_type": "code",
   "execution_count": null,
   "id": "db59d8b5-2a30-4a5b-9e82-6b247ba27c8d",
   "metadata": {},
   "outputs": [],
   "source": [
    "ch4s0.Shells()[0].Faces()[0].Edges()[0].Vertices()"
   ]
  },
  {
   "cell_type": "code",
   "execution_count": null,
   "id": "87e5b696-6338-409a-bda8-fa19b74781d8",
   "metadata": {},
   "outputs": [],
   "source": [
    "ch4s0.facesIntersectedByLine?"
   ]
  },
  {
   "cell_type": "code",
   "execution_count": null,
   "id": "ec7500ce-9f8d-45d4-a571-92d6026c486a",
   "metadata": {},
   "outputs": [],
   "source": []
  }
 ],
 "metadata": {
  "kernelspec": {
   "display_name": "Python 3 (ipykernel)",
   "language": "python",
   "name": "python3"
  },
  "language_info": {
   "codemirror_mode": {
    "name": "ipython",
    "version": 3
   },
   "file_extension": ".py",
   "mimetype": "text/x-python",
   "name": "python",
   "nbconvert_exporter": "python",
   "pygments_lexer": "ipython3"
  }
 },
 "nbformat": 4,
 "nbformat_minor": 5
}
