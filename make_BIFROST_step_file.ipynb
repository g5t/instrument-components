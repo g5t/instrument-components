{
 "cells": [
  {
   "cell_type": "code",
   "execution_count": null,
   "id": "3d5a87cb-f2b2-4140-ba9b-36fc2e3180a5",
   "metadata": {},
   "outputs": [],
   "source": [
    "from nicess.bifrost import Tank, Channel, BIFROST\n",
    "import scipp as sc\n",
    "import numpy as np"
   ]
  },
  {
   "cell_type": "code",
   "execution_count": null,
   "id": "637afc41-9bf8-41d7-97be-13edae17570f",
   "metadata": {},
   "outputs": [],
   "source": [
    "obj0 = Channel.from_calibration(sc.scalar(0., unit='degree'))\n",
    "obj0_cq = obj0.to_cadquery()"
   ]
  },
  {
   "cell_type": "code",
   "execution_count": null,
   "id": "c2182f2d-75ea-4717-a550-8f4d2535af74",
   "metadata": {},
   "outputs": [],
   "source": [
    "obj = Tank.from_calibration()\n",
    "obj_cq = obj.to_cadquery()\n",
    "#obj_cq.save('test_BIFROST_secondary.step')"
   ]
  },
  {
   "cell_type": "code",
   "execution_count": null,
   "id": "3a16184d-bd2c-4ec5-b7d2-7d04d8ac971f",
   "metadata": {},
   "outputs": [],
   "source": [
    "from jupyter_cadquery.viewer.client import show, show_object"
   ]
  },
  {
   "cell_type": "code",
   "execution_count": null,
   "id": "58ae4151-deca-4d72-b8b9-09e26bcbadf9",
   "metadata": {},
   "outputs": [],
   "source": [
    "show(obj0_cq)"
   ]
  },
  {
   "cell_type": "code",
   "execution_count": null,
   "id": "2b609223-3438-4706-801f-174a10e7c0e2",
   "metadata": {},
   "outputs": [],
   "source": [
    "obj0_cq"
   ]
  },
  {
   "cell_type": "code",
   "execution_count": null,
   "id": "777edd49-8ebb-4e35-bddc-3dbb7b1e6d46",
   "metadata": {},
   "outputs": [],
   "source": [
    "obj_cq.save('one_BIFROST_channel.step')"
   ]
  }
 ],
 "metadata": {
  "kernelspec": {
   "display_name": "Python 3 (ipykernel)",
   "language": "python",
   "name": "python3"
  },
  "language_info": {
   "codemirror_mode": {
    "name": "ipython",
    "version": 3
   },
   "file_extension": ".py",
   "mimetype": "text/x-python",
   "name": "python",
   "nbconvert_exporter": "python",
   "pygments_lexer": "ipython3"
  }
 },
 "nbformat": 4,
 "nbformat_minor": 5
}
