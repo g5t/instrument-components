{
 "cells": [
  {
   "cell_type": "code",
   "execution_count": null,
   "id": "532a6d5d-d366-4c17-bf67-c3d734470f25",
   "metadata": {},
   "outputs": [],
   "source": [
    "from nicess.readouts import load_bifrost_readouts\n",
    "from scipp import plot, array, group, groupby, scalar"
   ]
  },
  {
   "cell_type": "code",
   "execution_count": null,
   "id": "9a82f204-1e92-4cfe-9a27-3db8dbaa9ef1",
   "metadata": {},
   "outputs": [],
   "source": [
    "wide_slit_file = 'mcstas_instrument/test/master_bifrost_20221028-113548_00000.h5'\n",
    "narrow_slit_file = 'mcstas_instrument/test/master_bifrost_20221028-113444_00000.h5'"
   ]
  },
  {
   "cell_type": "code",
   "execution_count": null,
   "id": "090b01b9-4e02-4e22-9cd2-736ee20807de",
   "metadata": {},
   "outputs": [],
   "source": [
    "rw = load_bifrost_readouts(wide_slit_file)\n",
    "rn = load_bifrost_readouts(narrow_slit_file)"
   ]
  },
  {
   "cell_type": "code",
   "execution_count": null,
   "id": "24a2e2ae-af27-4e08-9b5b-18abc9e64ac8",
   "metadata": {},
   "outputs": [],
   "source": [
    "rw.hist(ratio=300, time_of_flight=100).plot()"
   ]
  },
  {
   "cell_type": "code",
   "execution_count": null,
   "id": "dc5086c4-4390-414b-94df-967dee1766bc",
   "metadata": {},
   "outputs": [],
   "source": [
    "rn.hist(ratio=300, time_of_flight=100).plot()"
   ]
  },
  {
   "cell_type": "code",
   "execution_count": null,
   "id": "909d0966-2874-47e2-a078-f547eca94f11",
   "metadata": {},
   "outputs": [],
   "source": [
    "plot({'wide': rw.bin(ratio=1000), 'narrow': 5*rn.bin(ratio=1000)})"
   ]
  },
  {
   "cell_type": "code",
   "execution_count": null,
   "id": "533cf30c-508b-437a-a13a-8027db713604",
   "metadata": {},
   "outputs": [],
   "source": [
    "from nicess.bifrost import Tank"
   ]
  },
  {
   "cell_type": "code",
   "execution_count": null,
   "id": "06f06c50-30ab-4978-8ef1-6fdb91ad4371",
   "metadata": {},
   "outputs": [],
   "source": [
    "bifrost = Tank.from_calibration()"
   ]
  },
  {
   "cell_type": "code",
   "execution_count": null,
   "id": "97745a6d-3023-4a7e-9b4c-43f295d70d05",
   "metadata": {},
   "outputs": [],
   "source": [
    "triplet = bifrost.channels[1].pairs[0].detector"
   ]
  },
  {
   "cell_type": "code",
   "execution_count": null,
   "id": "9bbaaf00-31f6-4004-a2f0-dd653760a551",
   "metadata": {},
   "outputs": [],
   "source": [
    "triplet.a_over_a_plus_b_edges()"
   ]
  },
  {
   "cell_type": "code",
   "execution_count": null,
   "id": "24fc2130-f231-4afb-bb9d-7f0e876d63c6",
   "metadata": {},
   "outputs": [],
   "source": [
    "ratio_edges = triplet.a_minus_b_over_a_plus_b_edges().rename_dims({'tube': 'ratio'})\n",
    "tube_index = array(values=[-1,0,-1,1,-1,2,-1], dims=['ratio'])\n",
    "rwb = rw.bin(ratio=ratio_edges)\n",
    "rwb.coords['tube'] = tube_index\n",
    "rwbg = group(rwb, 'tube')\n",
    "\n",
    "if len(rwbg['tube', scalar(-1)].sizes) != 0:\n",
    "    print(\"Inter-tube ranges should not have events, but do!\")\n",
    "    "
   ]
  },
  {
   "cell_type": "code",
   "execution_count": null,
   "id": "50b9e669-2700-43a6-af2a-7f5940b37a2d",
   "metadata": {},
   "outputs": [],
   "source": [
    "tubes = array(values=[0,1,2], dims=['tube'])\n",
    "tube_ratios = {f\"tube {x:c}\": rwbg['tube', x] for x in tubes}\n",
    "plot({x: t.bin(ratio=1000) for x,t in tube_ratios.items()})"
   ]
  },
  {
   "cell_type": "code",
   "execution_count": null,
   "id": "5d55cb03-8a5f-4481-accf-48464ddb9998",
   "metadata": {},
   "outputs": [],
   "source": []
  }
 ],
 "metadata": {
  "kernelspec": {
   "display_name": "Python 3 (ipykernel)",
   "language": "python",
   "name": "python3"
  },
  "language_info": {
   "codemirror_mode": {
    "name": "ipython",
    "version": 3
   },
   "file_extension": ".py",
   "mimetype": "text/x-python",
   "name": "python",
   "nbconvert_exporter": "python",
   "pygments_lexer": "ipython3"
  }
 },
 "nbformat": 4,
 "nbformat_minor": 5
}
