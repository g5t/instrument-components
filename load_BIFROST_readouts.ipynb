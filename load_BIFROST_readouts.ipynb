{
 "cells": [
  {
   "cell_type": "code",
   "execution_count": null,
   "id": "532a6d5d-d366-4c17-bf67-c3d734470f25",
   "metadata": {},
   "outputs": [],
   "source": [
    "%matplotlib widget\n",
    "from nicess.readouts import load_bifrost_readouts, load_bifrost_readout_times\n",
    "from scipp import plot, array, group, groupby, scalar, collapse, concat\n",
    "import scipp as sc\n",
    "import numpy as np\n",
    "import matplotlib.pyplot as pp"
   ]
  },
  {
   "cell_type": "code",
   "execution_count": null,
   "id": "9a82f204-1e92-4cfe-9a27-3db8dbaa9ef1",
   "metadata": {},
   "outputs": [],
   "source": [
    "wide_slit_file = 'mcstas_instrument/test/master_bifrost_20221028-113548_00000.h5'\n",
    "narrow_slit_file = 'mcstas_instrument/test/master_bifrost_20221028-113444_00000.h5'\n",
    "no_slit_fixed_two_theta = 'mcstas_instrument/test/master_bifrost_20221101-162531_00000.h5'\n",
    "no_slit_fixed_two_theta2 = 'mcstas_instrument/test/master_bifrost_20221104-100819_00000.h5'"
   ]
  },
  {
   "cell_type": "code",
   "execution_count": null,
   "id": "090b01b9-4e02-4e22-9cd2-736ee20807de",
   "metadata": {},
   "outputs": [],
   "source": [
    "rw = load_bifrost_readouts(wide_slit_file)\n",
    "rn = load_bifrost_readouts(narrow_slit_file)\n",
    "\n",
    "rw = load_bifrost_readouts(no_slit_fixed_two_theta2)"
   ]
  },
  {
   "cell_type": "code",
   "execution_count": null,
   "id": "ca542459-fcd1-44b6-a15b-14611ad0a797",
   "metadata": {},
   "outputs": [],
   "source": [
    "rw_clocks = load_bifrost_readout_times(no_slit_fixed_two_theta2)\n",
    "plot({k: rw_clocks[k][::100][:5000] for k in ('Event', 'Pulse')})\n",
    "#plot(rw_clocks['tof'][::100][:5000])"
   ]
  },
  {
   "cell_type": "code",
   "execution_count": null,
   "id": "a483dbbb-1d20-456a-a966-c64423190b1a",
   "metadata": {},
   "outputs": [],
   "source": [
    "plot(rw_clocks['tof_high'][::100][:5000])"
   ]
  },
  {
   "cell_type": "code",
   "execution_count": null,
   "id": "39d9dc90-040f-49be-a1df-dbddc7fa8262",
   "metadata": {},
   "outputs": [],
   "source": [
    "plot({k: rw_clocks[k][::100][:5000] for k in ('event_high', 'pulse_high')})"
   ]
  },
  {
   "cell_type": "code",
   "execution_count": null,
   "id": "9c978bc9-9bd0-4951-8961-35e1f5cd0705",
   "metadata": {},
   "outputs": [],
   "source": [
    "plot((rw_clocks['event_high'] - rw_clocks['pulse_high'])[::100][:5000])"
   ]
  },
  {
   "cell_type": "code",
   "execution_count": null,
   "id": "bc06a5c2-213f-42d1-b84c-689a5f0ce379",
   "metadata": {},
   "outputs": [],
   "source": [
    "plot({k: rw_clocks[k][::100][:5000] for k in ('event_low', 'pulse_low')})"
   ]
  },
  {
   "cell_type": "code",
   "execution_count": null,
   "id": "544e4d74-c734-4f8b-b9fd-9669468412f6",
   "metadata": {},
   "outputs": [],
   "source": []
  },
  {
   "cell_type": "code",
   "execution_count": null,
   "id": "24a2e2ae-af27-4e08-9b5b-18abc9e64ac8",
   "metadata": {},
   "outputs": [],
   "source": [
    "rw.hist(ratio=300, time_of_flight=100).plot()"
   ]
  },
  {
   "cell_type": "code",
   "execution_count": null,
   "id": "dc5086c4-4390-414b-94df-967dee1766bc",
   "metadata": {},
   "outputs": [],
   "source": [
    "#rn.hist(ratio=300, time_of_flight=100).plot()"
   ]
  },
  {
   "cell_type": "code",
   "execution_count": null,
   "id": "909d0966-2874-47e2-a078-f547eca94f11",
   "metadata": {},
   "outputs": [],
   "source": [
    "#plot({'wide': rw.bin(ratio=1000), 'narrow': 5*rn.bin(ratio=1000)})"
   ]
  },
  {
   "cell_type": "code",
   "execution_count": null,
   "id": "533cf30c-508b-437a-a13a-8027db713604",
   "metadata": {},
   "outputs": [],
   "source": [
    "from nicess.bifrost import Tank"
   ]
  },
  {
   "cell_type": "code",
   "execution_count": null,
   "id": "06f06c50-30ab-4978-8ef1-6fdb91ad4371",
   "metadata": {},
   "outputs": [],
   "source": [
    "bifrost = Tank.from_calibration()"
   ]
  },
  {
   "cell_type": "code",
   "execution_count": null,
   "id": "97745a6d-3023-4a7e-9b4c-43f295d70d05",
   "metadata": {},
   "outputs": [],
   "source": [
    "triplet = bifrost.channels[1].pairs[0].detector"
   ]
  },
  {
   "cell_type": "code",
   "execution_count": null,
   "id": "24fc2130-f231-4afb-bb9d-7f0e876d63c6",
   "metadata": {},
   "outputs": [],
   "source": [
    "ratio_edges = triplet.a_minus_b_over_a_plus_b_edges().rename_dims({'tube': 'ratio'})\n",
    "tube_index = array(values=[-1,0,-1,1,-1,2,-1], dims=['ratio'])\n",
    "\n",
    "rwb = rw.bin(ratio=ratio_edges)\n",
    "rwb.coords['tube'] = tube_index\n",
    "import numpy as np\n",
    "#rwb.coords['low'] = ratio_edges[:-1]\n",
    "#rwb.coords['high'] = ratio_edges[1:]\n",
    "\n",
    "# tube 1 has 'backwards' edges compared to 0 and 2;\n",
    "edges = np.vstack((ratio_edges.values[:-1],ratio_edges.values[1:]))\n",
    "edges[:,3] = edges[1, 3], edges[0, 3]\n",
    "rwb.coords['edges'] = array(values=edges, dims=['edges','ratio'])\n",
    "\n",
    "rwbg = group(rwb, 'tube')\n",
    "if len(rwbg['tube', scalar(-1)].sizes) != 0:\n",
    "    print(\"Inter-tube ranges should not have events, but do!\")\n",
    "\n",
    "tubes = array(values=[0,1,2], dims=['tube'])\n",
    "tube_ratios = {f\"tube {x:c}\": rwbg['tube', x].copy() for x in tubes}\n",
    "tp = {x: t.bin(ratio=1000) for x,t in tube_ratios.items()}\n",
    "out = plot(tp)\n",
    "#for l, h in zip(rwb.coords['low'].values, rwb.coords['high'].values):\n",
    "#    out.ax.plot([l, l, h, h], [10000, 0, 0, 10000], '--k')\n",
    "for l, h in rwb.coords['edges'].values.T:\n",
    "    out.ax.plot([l, l, h, h], [10000, 0, 0, 10000], '--k')\n",
    "out\n"
   ]
  },
  {
   "cell_type": "code",
   "execution_count": null,
   "id": "5a1af1d4-de49-4ac6-a167-c6558010985d",
   "metadata": {},
   "outputs": [],
   "source": [
    "rwb"
   ]
  },
  {
   "cell_type": "code",
   "execution_count": null,
   "id": "61f4fb3c-4c28-4222-9a82-a4743d3faff5",
   "metadata": {},
   "outputs": [],
   "source": [
    "rwb['tube', scalar(0)]"
   ]
  },
  {
   "cell_type": "code",
   "execution_count": null,
   "id": "77e1a4bc-5756-48e3-99d2-776b3cf09ae4",
   "metadata": {},
   "outputs": [],
   "source": [
    "#rwb['ratio', [1,3,5]]\n",
    "a = rwb.copy()\n",
    "del a.coords['ratio']\n",
    "a['ratio', 1:6:2]"
   ]
  },
  {
   "cell_type": "code",
   "execution_count": null,
   "id": "d8be7bb1-1a68-4b29-8e45-984510acc366",
   "metadata": {},
   "outputs": [],
   "source": [
    "# Verify that the intertubal bins contain no events\n",
    "a['ratio', ::2].bins.size().sum()"
   ]
  },
  {
   "cell_type": "code",
   "execution_count": null,
   "id": "3805c51e-c21b-44e0-aec7-ac72276cbcde",
   "metadata": {},
   "outputs": [],
   "source": []
  },
  {
   "cell_type": "code",
   "execution_count": null,
   "id": "26051b9b-2d79-4139-ac5f-84672fc738ac",
   "metadata": {},
   "outputs": [],
   "source": [
    "ccrwb = concat([v for v in collapse(rwb, 'tube').values() if v.values.sizes['event']], dim='tube')"
   ]
  },
  {
   "cell_type": "code",
   "execution_count": null,
   "id": "224aa4b3-df09-4c00-a6dd-110f6a42cd3a",
   "metadata": {},
   "outputs": [],
   "source": [
    "ccrwb"
   ]
  },
  {
   "cell_type": "code",
   "execution_count": null,
   "id": "1ba5be6f-bad8-416a-8e12-cf7f48895db9",
   "metadata": {},
   "outputs": [],
   "source": [
    "#def monosub(ratio, low, high):\n",
    "#    return (ratio - low) / (high - low)\n",
    "\n",
    "def monosub2(ratio, edges):\n",
    "    return (ratio - edges['edges', 0]) / (edges['edges', 1] - edges['edges', 0])"
   ]
  },
  {
   "cell_type": "code",
   "execution_count": null,
   "id": "33e23dc2-7cc1-4b23-be86-cf5d6ea05808",
   "metadata": {},
   "outputs": [],
   "source": [
    "ccrwb.transform_coords(['x'], graph={'x': monosub2})"
   ]
  },
  {
   "cell_type": "code",
   "execution_count": null,
   "id": "cae36d58-8625-4485-93de-30a470a4ad2f",
   "metadata": {},
   "outputs": [],
   "source": [
    "aofx = a['ratio', 1:6:2].transform_coords(['x'], graph={'x': monosub2})\n",
    "aofx"
   ]
  },
  {
   "cell_type": "code",
   "execution_count": null,
   "id": "a11cc443-5a0b-4974-8770-a51ad186680c",
   "metadata": {},
   "outputs": [],
   "source": []
  },
  {
   "cell_type": "code",
   "execution_count": null,
   "id": "867dda97-4f53-4039-adcf-01049cb099a8",
   "metadata": {},
   "outputs": [],
   "source": [
    "plot({k: v.bin(x=1) for k, v in collapse(aofx.group('tube'),'x').items()})"
   ]
  },
  {
   "cell_type": "code",
   "execution_count": null,
   "id": "c50822ac-c815-4d8a-a5d3-201222985f0e",
   "metadata": {},
   "outputs": [],
   "source": [
    "aoft = aofx.group('tube')\n",
    "#aoft = a.group('tube')['tube',1:].copy()\n",
    "aoft"
   ]
  },
  {
   "cell_type": "code",
   "execution_count": null,
   "id": "213c8f57-3201-4585-aa25-387b42f6218d",
   "metadata": {},
   "outputs": [],
   "source": [
    "aoft.coords['at'] = concat([t.at for t in triplet.tubes], dim='tube')\n",
    "aoft.coords['to'] = concat([t.to for t in triplet.tubes], dim='tube')\n",
    "aoft"
   ]
  },
  {
   "cell_type": "code",
   "execution_count": null,
   "id": "799376dc-396b-42e1-b3a2-6d6a20163bd6",
   "metadata": {},
   "outputs": [],
   "source": [
    "def event_position(at, to, x):\n",
    "    return x * (to - at) + at"
   ]
  },
  {
   "cell_type": "code",
   "execution_count": null,
   "id": "d0e8c036-0d78-4654-a1a0-3ef53e4e2940",
   "metadata": {},
   "outputs": [],
   "source": [
    "# ccrwb had coordinates/attributes 'ratio', 'edges', 'at', and 'to'; and so could be transformed in one go\n",
    "#q = ccrwb.transform_coords(['position'], graph={'x': monosub, 'position': event_position})\n",
    "q = aoft.transform_coords(['position'], graph={'position': event_position})\n",
    "q"
   ]
  },
  {
   "cell_type": "code",
   "execution_count": null,
   "id": "9cfa729c-b943-47d4-a718-abbc58321647",
   "metadata": {},
   "outputs": [],
   "source": [
    "q['tube',0].data.values"
   ]
  },
  {
   "cell_type": "code",
   "execution_count": null,
   "id": "c52a4f0d-4e62-4ef6-9322-5fc51e1287c1",
   "metadata": {},
   "outputs": [],
   "source": [
    "#q.bin(tube=1).data.values[0].plot(projection='3d', positions='position')"
   ]
  },
  {
   "cell_type": "code",
   "execution_count": null,
   "id": "5f4c520c-c443-455d-98e2-1bf721af9425",
   "metadata": {},
   "outputs": [],
   "source": [
    "secondary = bifrost.to_secondary()\n",
    "print(f\"{len(secondary.detectors)=}\\n{len(secondary.analyzers)=}\\n{[x for x in dir(secondary) if '__' not in x]}\")"
   ]
  },
  {
   "cell_type": "code",
   "execution_count": null,
   "id": "ee1e8f1e-702b-4bdd-b241-8118780d204a",
   "metadata": {},
   "outputs": [],
   "source": [
    "secondary.analyzer_map['channel', 1]['pair', 0]"
   ]
  },
  {
   "cell_type": "code",
   "execution_count": null,
   "id": "cc0b42f1-0ece-403f-b671-0e0063397cd2",
   "metadata": {},
   "outputs": [],
   "source": [
    "secondary.detector_map['channel', 1]['pair', 0]"
   ]
  },
  {
   "cell_type": "code",
   "execution_count": null,
   "id": "0e71d8e9-d290-4ee8-b968-2782a35183d8",
   "metadata": {},
   "outputs": [],
   "source": [
    "secondary.continuous_final_distance(secondary.detector_map['channel', 1]['pair', 0]['tube', 0].value, 0.1)"
   ]
  },
  {
   "cell_type": "code",
   "execution_count": null,
   "id": "f8f91d64-fcd0-490f-9dd1-0b888311947b",
   "metadata": {},
   "outputs": [],
   "source": [
    "def l1():\n",
    "    return scalar(160, unit='m')\n",
    "\n",
    "def secondary_index(cassette, pair, tube):\n",
    "    # Figure out how to do this robustly for all detectors\n",
    "    #print(cassette)\n",
    "    #idx = secondary.detector_map['channel', cassette]['pair', pair]['tube', tube]\n",
    "    #return idx\n",
    "    return tube + scalar(15)\n",
    "\n",
    "def l2(secondary_index, x):\n",
    "    return secondary.broadcast_continuous_final_distance(secondary_index, x)\n",
    "\n",
    "def velocity(l1, l2, time_of_flight):\n",
    "    return (l1 + l2) / time_of_flight\n",
    "\n",
    "def energy(velocity):\n",
    "    from scipp.constants import neutron_mass\n",
    "    return (scalar(0.5) * neutron_mass * velocity * velocity).to(unit='meV')\n",
    "\n",
    "def wavelength(velocity):\n",
    "    from scipp.constants import Planck, neutron_mass\n",
    "    return (Planck / (neutron_mass * velocity)).to(unit='angstrom')\n",
    "\n",
    "def theta(secondary_index, x):\n",
    "    return secondary.broadcast_continuous_theta(secondary_index, x)\n",
    "#    from scipp import sqrt, dot, acos\n",
    "#    sa = secondary.continuous_analyzer_vector(i, x)\n",
    "#    sd = secondary.continuous_detector_vector(i, x)\n",
    "#    ad = sd - sa\n",
    "#    return acos(dot(sa, ad)/sqrt(dot(sa, sa))/sqrt(ad, ad))\n",
    "\n",
    "def delta_a4(secondary_index, x):\n",
    "    return secondary.broadcast_continuous_delta_a4(secondary_index, x).to(unit='degree')\n",
    "\n",
    "def d_spacing(wavelength, theta):\n",
    "    from scipp import sin\n",
    "    return wavelength / (2 * sin(theta))\n",
    "\n",
    "def theta_d(theta):\n",
    "    return theta.to(unit='degree')\n",
    "\n",
    "graph = {\n",
    "    'l1': l1, \n",
    "    'secondary_index': secondary_index, \n",
    "    'l2': l2, \n",
    "    'velocity': velocity, \n",
    "    'wavelength': wavelength, \n",
    "    'theta': theta, \n",
    "    'd_spacing': d_spacing, \n",
    "    'energy': energy, \n",
    "    'theta_d': theta_d,\n",
    "    'delta_a4': delta_a4\n",
    "}\n",
    "\n",
    "#sc.show_graph(graph)"
   ]
  },
  {
   "cell_type": "code",
   "execution_count": null,
   "id": "acbea374-9e6d-486f-961d-7ae700c811d3",
   "metadata": {},
   "outputs": [],
   "source": [
    "aofd = aofx.transform_coords(['delta_a4', 'theta_d', 'd_spacing', 'energy', 'tube', 'x'], graph=graph, keep_inputs=True, keep_intermediate=True)\n",
    "aofd"
   ]
  },
  {
   "cell_type": "code",
   "execution_count": null,
   "id": "6941d5c2-0f7b-44da-8afa-12e77f11133b",
   "metadata": {},
   "outputs": [],
   "source": [
    "plot({k: v.bin(energy=1) for k, v in collapse(aofd,'tube').items()})"
   ]
  },
  {
   "cell_type": "code",
   "execution_count": null,
   "id": "2d70f523-2fed-49df-a57f-deb7fdd11932",
   "metadata": {},
   "outputs": [],
   "source": []
  },
  {
   "cell_type": "code",
   "execution_count": null,
   "id": "e0d5760f-9f1b-4d63-800c-b9872b7a906a",
   "metadata": {},
   "outputs": [],
   "source": [
    "collapse(aofd, 'tube')['x:0'].bin(wavelength=1)"
   ]
  },
  {
   "cell_type": "code",
   "execution_count": null,
   "id": "24e75b26-97ea-4096-94b3-a2207b3d9f0f",
   "metadata": {},
   "outputs": [],
   "source": [
    "plot({k: v.hist(delta_a4=100, x=31) for k, v in collapse(aofd, 'tube').items()})"
   ]
  },
  {
   "cell_type": "code",
   "execution_count": null,
   "id": "08443335-7d59-4d84-9323-2d9b6c18bc20",
   "metadata": {},
   "outputs": [],
   "source": [
    "biggraph = {'l1': l1, 'secondary_index': secondary_index, 'l2': l2, 'velocity': velocity, 'wavelength': wavelength, 'theta': theta, 'd_spacing': d_spacing, 'energy': energy, 'x': monosub2}\n",
    "b = a['ratio', 1:6:2].transform_coords(['tube','x', 'energy'], graph=biggraph)"
   ]
  },
  {
   "cell_type": "code",
   "execution_count": null,
   "id": "b7836759-4581-4dfe-935f-95f7c1baf2ef",
   "metadata": {},
   "outputs": [],
   "source": [
    "b"
   ]
  },
  {
   "cell_type": "code",
   "execution_count": null,
   "id": "d219f3c3-4270-4489-a3c7-8571f8434060",
   "metadata": {},
   "outputs": [],
   "source": [
    "b['energy',0].values.hist(x=100, energy=100).plot()"
   ]
  },
  {
   "cell_type": "code",
   "execution_count": null,
   "id": "18e2baf7-6484-494e-8d69-705afdf64613",
   "metadata": {},
   "outputs": [],
   "source": [
    "b['energy',1].values.hist(x=100, energy=100).plot()"
   ]
  },
  {
   "cell_type": "code",
   "execution_count": null,
   "id": "b0ca120b-2ffb-4279-85a6-03a1b21d8614",
   "metadata": {},
   "outputs": [],
   "source": [
    "b['energy',2].values.hist(x=100, energy=100).plot()"
   ]
  },
  {
   "cell_type": "code",
   "execution_count": null,
   "id": "faaf7b7c-9e10-4edf-9c77-6aaf819095d3",
   "metadata": {},
   "outputs": [],
   "source": []
  }
 ],
 "metadata": {
  "kernelspec": {
   "display_name": "Python 3 (ipykernel)",
   "language": "python",
   "name": "python3"
  },
  "language_info": {
   "codemirror_mode": {
    "name": "ipython",
    "version": 3
   },
   "file_extension": ".py",
   "mimetype": "text/x-python",
   "name": "python",
   "nbconvert_exporter": "python",
   "pygments_lexer": "ipython3"
  }
 },
 "nbformat": 4,
 "nbformat_minor": 5
}
