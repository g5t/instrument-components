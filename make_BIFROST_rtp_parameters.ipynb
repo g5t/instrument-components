{
 "cells": [
  {
   "cell_type": "code",
   "execution_count": null,
   "id": "3d5a87cb-f2b2-4140-ba9b-36fc2e3180a5",
   "metadata": {},
   "outputs": [],
   "source": [
    "from nicess.bifrost import Tank, Channel, BIFROST\n",
    "import scipp as sc\n",
    "import numpy as np"
   ]
  },
  {
   "cell_type": "code",
   "execution_count": null,
   "id": "c2182f2d-75ea-4717-a550-8f4d2535af74",
   "metadata": {},
   "outputs": [],
   "source": [
    "obj = Tank.unique_from_calibration()"
   ]
  },
  {
   "cell_type": "code",
   "execution_count": null,
   "id": "777edd49-8ebb-4e35-bddc-3dbb7b1e6d46",
   "metadata": {},
   "outputs": [],
   "source": [
    "sa, ad, x7, y7, angle7, x9, y9, angle9 = obj.rtp_parameters(sc.vector([0., 0., 0.], unit='m'))"
   ]
  },
  {
   "cell_type": "code",
   "execution_count": null,
   "id": "42d62747-02c6-404a-8f5a-dcc0aa7ba706",
   "metadata": {},
   "outputs": [],
   "source": [
    "ds7 = sc.Dataset({'sample-analyzer': sa['pairs',:2], 'analyzer-detector': ad['pairs',:2], 'x': x7.to(unit='mm'), 'y': y7.to(unit='mm'), 'angle': angle7.to(unit='degree')})\n",
    "ds7"
   ]
  },
  {
   "cell_type": "code",
   "execution_count": null,
   "id": "7b7db83a-02b7-4f14-be2d-2a1ebea6fa6c",
   "metadata": {},
   "outputs": [],
   "source": [
    "ds9 = sc.Dataset({'sample-analyzer': sa['pairs',2:], 'analyzer-detectoor': ad['pairs',2:], 'x': x9.to(unit='mm'), 'y': y9.to(unit='mm'), 'angle': angle9.to(unit='degree')})\n",
    "ds9"
   ]
  },
  {
   "cell_type": "code",
   "execution_count": null,
   "id": "6396c52c-1fa4-47ac-b11a-1c2a13f77375",
   "metadata": {},
   "outputs": [],
   "source": [
    "c0p0 = ds7['channel',0]['pairs',0]\n",
    "display(c0p0)\n",
    "sc.table(c0p0)"
   ]
  },
  {
   "cell_type": "code",
   "execution_count": null,
   "id": "fff18fab-5e69-4d35-81ec-1ed80784d9b9",
   "metadata": {},
   "outputs": [],
   "source": [
    "c1p0 = ds7['channel',1]['pairs',0]\n",
    "display(c1p0)\n",
    "sc.table(c1p0)"
   ]
  },
  {
   "cell_type": "code",
   "execution_count": null,
   "id": "53b73e96-159e-445c-bbe7-f496c342bf42",
   "metadata": {},
   "outputs": [],
   "source": [
    "c2p0 = ds7['channel',2]['pairs',0]\n",
    "display(c2p0)\n",
    "sc.table(c2p0)"
   ]
  }
 ],
 "metadata": {
  "kernelspec": {
   "display_name": "Python 3 (ipykernel)",
   "language": "python",
   "name": "python3"
  },
  "language_info": {
   "codemirror_mode": {
    "name": "ipython",
    "version": 3
   },
   "file_extension": ".py",
   "mimetype": "text/x-python",
   "name": "python",
   "nbconvert_exporter": "python",
   "pygments_lexer": "ipython3"
  }
 },
 "nbformat": 4,
 "nbformat_minor": 5
}
