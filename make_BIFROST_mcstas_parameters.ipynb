{
 "cells": [
  {
   "cell_type": "code",
   "execution_count": null,
   "id": "3d5a87cb-f2b2-4140-ba9b-36fc2e3180a5",
   "metadata": {},
   "outputs": [],
   "source": [
    "from nicess.bifrost import Tank, Channel, BIFROST\n",
    "from nicess.cgen import arrays_to_instr_file\n",
    "import scipp as sc\n",
    "import numpy as np"
   ]
  },
  {
   "cell_type": "code",
   "execution_count": null,
   "id": "637afc41-9bf8-41d7-97be-13edae17570f",
   "metadata": {},
   "outputs": [],
   "source": [
    "obj0 = Channel.from_calibration(sc.scalar(0., unit='degree'))"
   ]
  },
  {
   "cell_type": "code",
   "execution_count": null,
   "id": "c2182f2d-75ea-4717-a550-8f4d2535af74",
   "metadata": {},
   "outputs": [],
   "source": [
    "obj = Tank.from_calibration()"
   ]
  },
  {
   "cell_type": "code",
   "execution_count": null,
   "id": "777edd49-8ebb-4e35-bddc-3dbb7b1e6d46",
   "metadata": {},
   "outputs": [],
   "source": [
    "param = obj.mcstas_parameters(sc.vector([0., 0., 0.], unit='m'))"
   ]
  },
  {
   "cell_type": "code",
   "execution_count": null,
   "id": "8285b6c1-9226-46a7-9f6a-dc8631386ef2",
   "metadata": {},
   "outputs": [],
   "source": [
    "param['distances'].shape"
   ]
  },
  {
   "cell_type": "code",
   "execution_count": null,
   "id": "6519284a-c9b4-43e8-8fad-dbcac3f0d71f",
   "metadata": {},
   "outputs": [],
   "source": [
    "param.keys()"
   ]
  },
  {
   "cell_type": "code",
   "execution_count": null,
   "id": "780e55cc-3266-474e-ba8d-55f9c18c097d",
   "metadata": {},
   "outputs": [],
   "source": [
    "contents = arrays_to_instr_file(param, 'BIFROST_params.instr', True)\n",
    "print(contents)"
   ]
  },
  {
   "cell_type": "code",
   "execution_count": null,
   "id": "49a35dc5-e97d-4cb5-8f85-7ba833fdd804",
   "metadata": {},
   "outputs": [],
   "source": [
    "param['detector']"
   ]
  },
  {
   "cell_type": "code",
   "execution_count": null,
   "id": "2b7de7a7-5b89-4f9e-b32a-b21ceff55c96",
   "metadata": {},
   "outputs": [],
   "source": []
  }
 ],
 "metadata": {
  "kernelspec": {
   "display_name": "Python 3 (ipykernel)",
   "language": "python",
   "name": "python3"
  },
  "language_info": {
   "codemirror_mode": {
    "name": "ipython",
    "version": 3
   },
   "file_extension": ".py",
   "mimetype": "text/x-python",
   "name": "python",
   "nbconvert_exporter": "python",
   "pygments_lexer": "ipython3"
  }
 },
 "nbformat": 4,
 "nbformat_minor": 5
}
